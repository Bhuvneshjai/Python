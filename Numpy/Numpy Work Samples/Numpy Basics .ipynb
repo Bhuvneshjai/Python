{
 "cells": [
  {
   "cell_type": "code",
   "execution_count": 84,
   "id": "0ec6c2ca",
   "metadata": {},
   "outputs": [],
   "source": [
    "# Numpy is a Python Library \n",
    "# Numpy is used for working with arrays\n",
    "# Numpy stands for Numerical Python\n",
    "\n",
    "import numpy as np # np is reference name (alias)"
   ]
  },
  {
   "cell_type": "code",
   "execution_count": 85,
   "id": "2a6919ad",
   "metadata": {},
   "outputs": [
    {
     "name": "stdout",
     "output_type": "stream",
     "text": [
      "55\n",
      "<class 'numpy.ndarray'>\n"
     ]
    }
   ],
   "source": [
    "x = np.array(55)\n",
    "print(x)\n",
    "print(type(x))"
   ]
  },
  {
   "cell_type": "code",
   "execution_count": 86,
   "id": "12c08e2c",
   "metadata": {},
   "outputs": [
    {
     "name": "stdout",
     "output_type": "stream",
     "text": [
      "[1 2 3 4 5]\n",
      "<class 'numpy.ndarray'>\n"
     ]
    }
   ],
   "source": [
    "# The array object in Numpy is ndarray\n",
    "# We can create Numpy ndarray object by using array() function\n",
    "\n",
    "x1 = np.array([1,2,3,4,5])\n",
    "print(x1)\n",
    "print(type(x1))"
   ]
  },
  {
   "cell_type": "code",
   "execution_count": 87,
   "id": "b0c5b590",
   "metadata": {},
   "outputs": [
    {
     "name": "stdout",
     "output_type": "stream",
     "text": [
      "1.20.1\n"
     ]
    }
   ],
   "source": [
    "print(np.__version__) #check the version"
   ]
  },
  {
   "cell_type": "code",
   "execution_count": 88,
   "id": "e1041224",
   "metadata": {},
   "outputs": [
    {
     "name": "stdout",
     "output_type": "stream",
     "text": [
      "[22 33 44]\n",
      "<class 'numpy.ndarray'>\n"
     ]
    }
   ],
   "source": [
    "# To create an ndarray , we can pass a list , tuple or any other like object\n",
    "# into the array() method and it will be converted into an ndarray\n",
    "\n",
    "x2 = np.array((22,33,44))\n",
    "print(x2)\n",
    "print(type(x2))"
   ]
  },
  {
   "cell_type": "code",
   "execution_count": 89,
   "id": "a4769820",
   "metadata": {},
   "outputs": [
    {
     "name": "stdout",
     "output_type": "stream",
     "text": [
      "0-D Array\n",
      "45\n",
      "\n",
      "\n",
      "1-D Array\n",
      "[21 32 43]\n",
      "\n",
      "\n",
      "2-D Array\n",
      "[[11 22 33]\n",
      " [34 56 78]]\n",
      "\n",
      "\n",
      "3-D Array\n",
      "[[[56 77 88]\n",
      "  [54 12 32]]\n",
      "\n",
      " [[44 76 67]\n",
      "  [98 76 54]]]\n"
     ]
    }
   ],
   "source": [
    "# Dimensions in array is one level of array depth\n",
    "# Nested array are arrays that have arrays as their elements\n",
    "\n",
    "# 0-D array -> these or scalars are the elements in an array.\n",
    "# Each value in an arrray is 0-D array\n",
    "\n",
    "x3 = np.array(45)\n",
    "print(\"0-D Array\")\n",
    "print(x3)\n",
    "print()\n",
    "print()\n",
    "\n",
    "\n",
    "# 1-D array are array that has 0-D array as its elements. \n",
    "# This is also Uni-Dimensional array . It is most Common Array\n",
    "\n",
    "x4 = np.array([21,32,43])\n",
    "print(\"1-D Array\")\n",
    "print(x4)\n",
    "print()\n",
    "print()\n",
    "\n",
    "\n",
    "# 2-D array are array that has 1-D array as its elements.\n",
    "# These are often used to represent the Matrix or @nd order Tensors \n",
    "\n",
    "x5 = np.array([[11,22,33],[34,56,78]])\n",
    "print(\"2-D Array\")\n",
    "print(x5)\n",
    "print()\n",
    "print()\n",
    "\n",
    "\n",
    "# 3-D array are array that has 2-D array as its elements.\n",
    "# These are often used to represent the 3rd order Tensors\n",
    "\n",
    "x6 = np.array([[[56,77,88],[54,12,32]],[[44,76,67],[98,76,54]]])\n",
    "print(\"3-D Array\")\n",
    "print(x6)"
   ]
  },
  {
   "cell_type": "code",
   "execution_count": 90,
   "id": "2bb6564a",
   "metadata": {},
   "outputs": [
    {
     "name": "stdout",
     "output_type": "stream",
     "text": [
      "0-D Array\n",
      "0\n",
      "\n",
      "1-D Array\n",
      "1\n",
      "\n",
      "2-D Array\n",
      "2\n",
      "\n",
      "3-D Array\n",
      "3\n",
      "\n"
     ]
    }
   ],
   "source": [
    "# Numpy array Has ndim attribute that returns an integer \n",
    "# that tells us how many dimension the array have\n",
    "\n",
    "print(\"0-D Array\")\n",
    "print(x3.ndim)\n",
    "print()\n",
    "\n",
    "print(\"1-D Array\")\n",
    "print(x4.ndim)\n",
    "print()\n",
    "\n",
    "print(\"2-D Array\")\n",
    "print(x5.ndim)\n",
    "print()\n",
    "\n",
    "print(\"3-D Array\")\n",
    "print(x6.ndim)\n",
    "print()"
   ]
  },
  {
   "cell_type": "code",
   "execution_count": 91,
   "id": "c128a907",
   "metadata": {},
   "outputs": [
    {
     "name": "stdout",
     "output_type": "stream",
     "text": [
      "[[[[[5 8 9 5 4]]]]]\n"
     ]
    }
   ],
   "source": [
    "# An array can have any number of dimesions\n",
    "# when array is created , you can define the\n",
    "# number of dimensions by using the ndmin arguments\n",
    "\n",
    "x7 = np.array([5,8,9,5,4],ndmin=5)\n",
    "print(x7)"
   ]
  },
  {
   "cell_type": "code",
   "execution_count": 92,
   "id": "835d3102",
   "metadata": {},
   "outputs": [
    {
     "name": "stdout",
     "output_type": "stream",
     "text": [
      "3\n",
      "2\n",
      "1\n"
     ]
    }
   ],
   "source": [
    "# Access Array Elements\n",
    "# Accesing Elemenst Through index\n",
    "\n",
    "print(x1[2])\n",
    "print(x1[1])\n",
    "print(x1[0])"
   ]
  },
  {
   "cell_type": "code",
   "execution_count": 93,
   "id": "52622eee",
   "metadata": {},
   "outputs": [
    {
     "name": "stdout",
     "output_type": "stream",
     "text": [
      "Sum of [1 2 3 4 5] : 15\n"
     ]
    }
   ],
   "source": [
    "print(f\"Sum of {x1} : {x1[0]+x1[1]+x1[2]+x1[3]+x1[4]}\")"
   ]
  },
  {
   "cell_type": "code",
   "execution_count": 94,
   "id": "7b2987ac",
   "metadata": {},
   "outputs": [
    {
     "name": "stdout",
     "output_type": "stream",
     "text": [
      "2-D Array : \n",
      "[[11 22 33]\n",
      " [34 56 78]]\n",
      "\n",
      "\n",
      "Second Row First Element :  34\n",
      "First Row Second Element :  22\n"
     ]
    }
   ],
   "source": [
    "# Access 2-D Array\n",
    "\n",
    "print(\"2-D Array : \")\n",
    "print(x5)\n",
    "print()\n",
    "print()\n",
    "\n",
    "\n",
    "print(\"Second Row First Element : \",x5[1,0])\n",
    "print(\"First Row Second Element : \",x5[0,1])"
   ]
  },
  {
   "cell_type": "code",
   "execution_count": 95,
   "id": "b0571586",
   "metadata": {},
   "outputs": [
    {
     "name": "stdout",
     "output_type": "stream",
     "text": [
      "3-D Array : \n",
      "[[[56 77 88]\n",
      "  [54 12 32]]\n",
      "\n",
      " [[44 76 67]\n",
      "  [98 76 54]]]\n",
      "\n",
      "\n",
      "Element x6[0,1,1] 12\n",
      "Element x6[1,1,1] 76\n",
      "element x6[1,1,2] 54\n"
     ]
    }
   ],
   "source": [
    "# Access 3-D array\n",
    "\n",
    "print(\"3-D Array : \")\n",
    "print(x6)\n",
    "\n",
    "print()\n",
    "print()\n",
    "\n",
    "print(\"Element x6[0,1,1]\",x6[0,1,1])\n",
    "print(\"Element x6[1,1,1]\",x6[1,1,1])\n",
    "print(\"element x6[1,1,2]\",x6[1,1,2])"
   ]
  },
  {
   "cell_type": "code",
   "execution_count": 96,
   "id": "c762ebbf",
   "metadata": {},
   "outputs": [
    {
     "name": "stdout",
     "output_type": "stream",
     "text": [
      "[[ 1  2  3  4  5]\n",
      " [ 6  7  8  9 10]]\n",
      "\n",
      "Dimension is :  2\n",
      "\n",
      "Last element from 2nd dim:  10\n"
     ]
    }
   ],
   "source": [
    "# Negative Indexing\n",
    "\n",
    "arr = np.array([[1,2,3,4,5], [6,7,8,9,10]])\n",
    "print(arr)\n",
    "print()\n",
    "print(\"Dimension is : \",arr.ndim)\n",
    "print()\n",
    "\n",
    "print('Last element from 2nd dim: ', arr[1, -1])"
   ]
  },
  {
   "cell_type": "code",
   "execution_count": 97,
   "id": "38938529",
   "metadata": {},
   "outputs": [
    {
     "name": "stdout",
     "output_type": "stream",
     "text": [
      "Enter Number : 89\n",
      "89 is not Armstrong Number\n"
     ]
    }
   ],
   "source": [
    "# Armstrong number is a number that is equal to the sum of cubes of its digits.\n",
    "# Program To Check If the number is an Armstrong number or not\n",
    "\n",
    "num = int(input(\"Enter Number : \"))\n",
    "sum = 0\n",
    "temp = num\n",
    "while temp>0:\n",
    "    digit = temp%10\n",
    "    sum = sum + digit**3\n",
    "    temp = temp//10\n",
    "if num==sum:\n",
    "    print(f\"{num} is Armstrong Number\")\n",
    "else:\n",
    "    print(f\"{num} is not Armstrong Number\")"
   ]
  },
  {
   "cell_type": "code",
   "execution_count": 98,
   "id": "dbb7644e",
   "metadata": {},
   "outputs": [
    {
     "name": "stdout",
     "output_type": "stream",
     "text": [
      "Enter number to check no. is armstrong    or not or exit to leave : 407\n",
      "407 is Armstrong number\n",
      "Enter number to check no. is armstrong    or not or exit to leave : exit\n",
      "Invalid Value\n"
     ]
    }
   ],
   "source": [
    "def armstrong(number):\n",
    "    sum1 = 0\n",
    "    temp = number\n",
    "    while temp>0:\n",
    "        digit = temp%10\n",
    "        sum1 = sum1 + digit**3\n",
    "        temp = temp//10\n",
    "    if number==sum1:\n",
    "        print(f\"{number} is Armstrong number\")\n",
    "    else:\n",
    "        print(f\"{number} is not Armstrong number\")\n",
    "        \n",
    "\n",
    "\n",
    "user = \"\"\n",
    "while user!='exit':\n",
    "    user = input(\"Enter number to check no. is armstrong\\\n",
    "    or not or exit to leave : \")\n",
    "    if user.isdigit():\n",
    "        inp = int(user)\n",
    "        armstrong(inp)\n",
    "    else:\n",
    "        print(\"Invalid Value\")\n",
    "            \n",
    "        "
   ]
  },
  {
   "cell_type": "code",
   "execution_count": 99,
   "id": "48fabf8b",
   "metadata": {},
   "outputs": [
    {
     "name": "stdout",
     "output_type": "stream",
     "text": [
      "[2 4 6 8 0 1]\n",
      "\n",
      "Dimension of Array :  1\n",
      "Type of Array :  <class 'numpy.ndarray'>\n",
      "Slicing of x7[0:3] :  [2 4 6]\n"
     ]
    }
   ],
   "source": [
    "# Slicing Array\n",
    "# Slicing in python means taking element from one given index to another given\n",
    "# index. we pass slice instead of index like this [start:end].\n",
    "# we can also define the step [start:end:step]\n",
    "# if we don't pass start its considered as 0\n",
    "# if we don't pass end it considered as length of array in that dimension\n",
    "# if we don't pass step it considered 1\n",
    "\n",
    "x7 = np.array([2,4,6,8,0,1])\n",
    "print(x7)\n",
    "print()\n",
    "print(\"Dimension of Array : \",x7.ndim)\n",
    "print(\"Type of Array : \",type(x7))\n",
    "print(\"Slicing of x7[0:3] : \",x7[0:3])"
   ]
  },
  {
   "cell_type": "code",
   "execution_count": 100,
   "id": "2b49c99a",
   "metadata": {},
   "outputs": [
    {
     "name": "stdout",
     "output_type": "stream",
     "text": [
      "Not Give Start value x7[:4] :  [2 4 6 8]\n",
      "Not Give End Value x7[4:] : [0 1]\n"
     ]
    }
   ],
   "source": [
    "print(\"Not Give Start value x7[:4] : \",x7[:4])\n",
    "print(f\"Not Give End Value x7[4:] : {x7[4:]}\")\n",
    "\n",
    "# Thus it includes the start index but exclude the last index"
   ]
  },
  {
   "cell_type": "code",
   "execution_count": 101,
   "id": "87dce7d5",
   "metadata": {},
   "outputs": [
    {
     "name": "stdout",
     "output_type": "stream",
     "text": [
      "Negative Indexing From x7[-3:-1] :  [8 0]\n"
     ]
    }
   ],
   "source": [
    "# Negative Slicing\n",
    "# To use the minus operator to index from the end\n",
    "\n",
    "print(\"Negative Indexing From x7[-3:-1] : \",x7[-3:-1])"
   ]
  },
  {
   "cell_type": "code",
   "execution_count": 102,
   "id": "40120652",
   "metadata": {},
   "outputs": [
    {
     "name": "stdout",
     "output_type": "stream",
     "text": [
      "Use of Step like this x7[0::2] :  [2 6 0]\n"
     ]
    }
   ],
   "source": [
    "# Step is used to determine the step of slicing\n",
    "\n",
    "print(\"Use of Step like this x7[0::2] : \",x7[0::2])"
   ]
  },
  {
   "cell_type": "code",
   "execution_count": 103,
   "id": "6a8f5567",
   "metadata": {},
   "outputs": [
    {
     "name": "stdout",
     "output_type": "stream",
     "text": [
      "Dimension of x8 Array :  2\n",
      "Slicing in 2D Array x8[1,2:5] : [6 7 9]\n"
     ]
    }
   ],
   "source": [
    "# Slicing in 2D Array\n",
    "\n",
    "x8 = np.array([[2,3,4,5,6],[4,5,6,7,9]])\n",
    "print(\"Dimension of x8 Array : \",x8.ndim)\n",
    "print(f\"Slicing in 2D Array x8[1,2:5] : {x8[1,2:5]}\")"
   ]
  },
  {
   "cell_type": "code",
   "execution_count": 104,
   "id": "33ef0c1e",
   "metadata": {},
   "outputs": [
    {
     "name": "stdout",
     "output_type": "stream",
     "text": [
      "x8[0:2,2] :  [4 6]\n"
     ]
    }
   ],
   "source": [
    "print(\"x8[0:2,2] : \",x8[0:2,2])"
   ]
  },
  {
   "cell_type": "code",
   "execution_count": 105,
   "id": "c615c75b",
   "metadata": {},
   "outputs": [
    {
     "name": "stdout",
     "output_type": "stream",
     "text": [
      "x8[0:2,0:4] :  [[2 3 4 5]\n",
      " [4 5 6 7]]\n"
     ]
    }
   ],
   "source": [
    "print(\"x8[0:2,0:4] : \",x8[0:2,0:4])"
   ]
  },
  {
   "cell_type": "code",
   "execution_count": 106,
   "id": "5f1ab560",
   "metadata": {},
   "outputs": [
    {
     "name": "stdout",
     "output_type": "stream",
     "text": [
      "Datatype of array [22 33 44 55 66] is : int32\n"
     ]
    }
   ],
   "source": [
    "# Data Types in Numpy refers to data types with one character i for integer u \n",
    "# for unsigned integer \n",
    "\n",
    "# Checking the Datatype of an array \n",
    "# The numpy array object has the property called dtype that returns the \n",
    "# datatype of an array\n",
    "\n",
    "x9 = np.array([22,33,44,55,66])\n",
    "print(f\"Datatype of array {x9} is : {x9.dtype}\")"
   ]
  },
  {
   "cell_type": "code",
   "execution_count": 107,
   "id": "83b22e42",
   "metadata": {},
   "outputs": [
    {
     "name": "stdout",
     "output_type": "stream",
     "text": [
      "Datatype of array ['Apple' 'Banana' 'Papaya'] is : <U6\n"
     ]
    }
   ],
   "source": [
    "x10 = np.array(['Apple','Banana','Papaya'])\n",
    "print(f\"Datatype of array {x10} is : {x10.dtype}\")"
   ]
  },
  {
   "cell_type": "code",
   "execution_count": 108,
   "id": "96c5056c",
   "metadata": {},
   "outputs": [
    {
     "name": "stdout",
     "output_type": "stream",
     "text": [
      "Array is [b'1' b'2' b'3' b'4' b'5']\n",
      "DataType of array [b'1' b'2' b'3' b'4' b'5'] is : |S1\n"
     ]
    }
   ],
   "source": [
    "# Creating Array With a Defined Data Type\n",
    "# We use array() function to create arrays, this function can take an optional\n",
    "# arguments: dtype that allows us to define the expected datatype \n",
    "# of an array element.\n",
    "\n",
    "x11 = np.array([1,2,3,4,5] ,dtype='S')\n",
    "print(f\"Array is {x11}\")\n",
    "print(f\"DataType of array {x11} is : {x11.dtype}\")\n"
   ]
  },
  {
   "cell_type": "code",
   "execution_count": 109,
   "id": "7b9eb44e",
   "metadata": {},
   "outputs": [
    {
     "name": "stdout",
     "output_type": "stream",
     "text": [
      "Array is [1 2 3 4 5]\n",
      "DataType of array [1 2 3 4 5] is : int32\n"
     ]
    }
   ],
   "source": [
    "x11 = np.array([1,2,3,4,5] ,dtype='i4')\n",
    "print(f\"Array is {x11}\")\n",
    "print(f\"DataType of array {x11} is : {x11.dtype}\")"
   ]
  },
  {
   "cell_type": "code",
   "execution_count": 110,
   "id": "47b0a3e1",
   "metadata": {},
   "outputs": [
    {
     "name": "stdout",
     "output_type": "stream",
     "text": [
      "[66 77 88 99]\n",
      "\n",
      "[b'66' b'77' b'88' b'99']\n"
     ]
    }
   ],
   "source": [
    "# Converting Datatype of an existing arrays\n",
    "# The Best way to make the change of the datatype of an exisitng array , is to \n",
    "# make the copy of the array of astype() method.\n",
    "# The astype() method creates a copy of the array and allows to specify \n",
    "# datatype as a parameter \n",
    "\n",
    "x12 = np.array([66,77,88,99])\n",
    "data = x12.astype('S')\n",
    "print(x12)\n",
    "print()\n",
    "print(data)"
   ]
  },
  {
   "cell_type": "code",
   "execution_count": 111,
   "id": "5896e8a4",
   "metadata": {},
   "outputs": [
    {
     "name": "stdout",
     "output_type": "stream",
     "text": [
      "[1.3 4.3 3.3]\n",
      "\n",
      "[1 4 3]\n"
     ]
    }
   ],
   "source": [
    "x13 = np.array([1.3,4.3,3.3])\n",
    "data1 = x13.astype('i')\n",
    "print(x13)\n",
    "print()\n",
    "print(data1)"
   ]
  },
  {
   "cell_type": "code",
   "execution_count": 112,
   "id": "7787d917",
   "metadata": {},
   "outputs": [
    {
     "name": "stdout",
     "output_type": "stream",
     "text": [
      "[1.3 0.  3.3]\n",
      "\n",
      "[ True False  True]\n"
     ]
    }
   ],
   "source": [
    "x14 = np.array([1.3,0,3.3])\n",
    "data2 = x14.astype('bool')\n",
    "print(x14)\n",
    "print()\n",
    "print(data2)"
   ]
  },
  {
   "cell_type": "code",
   "execution_count": 113,
   "id": "8814779b",
   "metadata": {},
   "outputs": [
    {
     "name": "stdout",
     "output_type": "stream",
     "text": [
      "Shape Dimension of [1 2 3 4 5] is (5,)\n"
     ]
    }
   ],
   "source": [
    "# Shape of Array is the number of elements in each dimension\n",
    "# Numpy array have an attribute shape that returns a tuple with each index \n",
    "# having the number of corresponding elements.\n",
    "\n",
    "x19 = np.array([1,2,3,4,5])\n",
    "print(f\"Shape Dimension of {x19} is {x19.shape}\")"
   ]
  },
  {
   "cell_type": "code",
   "execution_count": 114,
   "id": "365bf54f",
   "metadata": {},
   "outputs": [
    {
     "name": "stdout",
     "output_type": "stream",
     "text": [
      "Shape Dimension of [[ 1  2  3  4  5]\n",
      " [22 33 44 55 69]] is (2, 5)\n"
     ]
    }
   ],
   "source": [
    "x20 = np.array([[1,2,3,4,5],[22,33,44,55,69]])\n",
    "print(f\"Shape Dimension of {x20} is {x20.shape}\")"
   ]
  },
  {
   "cell_type": "code",
   "execution_count": 115,
   "id": "ab11b62f",
   "metadata": {},
   "outputs": [
    {
     "name": "stdout",
     "output_type": "stream",
     "text": [
      "[[[[[12 34 56 78]]]]]\n",
      "Shape of Array [[[[[12 34 56 78]]]]] is (1, 1, 1, 1, 4)\n"
     ]
    }
   ],
   "source": [
    "x21 = np.array([12,34,56,78],ndmin=5)\n",
    "print(x21)\n",
    "print(f\"Shape of Array {x21} is {x21.shape}\")"
   ]
  },
  {
   "cell_type": "code",
   "execution_count": 116,
   "id": "ef0a9bf0",
   "metadata": {},
   "outputs": [
    {
     "name": "stdout",
     "output_type": "stream",
     "text": [
      "By Using Reshape : [[ 1  2  3]\n",
      " [ 4  5  6]\n",
      " [ 7  8  9]\n",
      " [ 0 11 12]]\n"
     ]
    }
   ],
   "source": [
    "# Reshaping of an Array\n",
    "# It means changing the shape of an array.\n",
    "# By reshaping we can add or remove dimension or change \n",
    "# the no. of elements in each dimension\n",
    "\n",
    "# Convert 1-D array in 2-D array\n",
    "x22 = np.array([1,2,3,4,5,6,7,8,9,0,11,12])\n",
    "x221 = x22.reshape(4,3)\n",
    "# They have 4 array with 3 elements\n",
    "print(f\"By Using Reshape : {x221}\")"
   ]
  },
  {
   "cell_type": "code",
   "execution_count": 117,
   "id": "822b7a27",
   "metadata": {},
   "outputs": [
    {
     "name": "stdout",
     "output_type": "stream",
     "text": [
      "2 Array that contain 3 Array with 2 Elements : [[[ 1  2]\n",
      "  [ 3  4]\n",
      "  [ 5  6]]\n",
      "\n",
      " [[ 7  8]\n",
      "  [ 9  0]\n",
      "  [11 22]]]\n"
     ]
    }
   ],
   "source": [
    "# convert 2-D array in 3-D array\n",
    "\n",
    "x23 = np.array([1,2,3,4,5,6,7,8,9,0,11,22])\n",
    "x231 = x23.reshape(2,3,2)\n",
    "print(f\"2 Array that contain 3 Array with 2 Elements : {x231}\")"
   ]
  },
  {
   "cell_type": "code",
   "execution_count": 118,
   "id": "3918bfcc",
   "metadata": {},
   "outputs": [
    {
     "name": "stdout",
     "output_type": "stream",
     "text": [
      "Check Return array is copy or view : [1 2 3 4 5 6 7 8]\n"
     ]
    }
   ],
   "source": [
    "# Return Copy or view\n",
    "# check if return array is copy or view\n",
    "\n",
    "x24 = np.array([1,2,3,4,5,6,7,8])\n",
    "print(f\"Check Return array is copy or view : {x24.reshape(2,4).base}\")\n"
   ]
  },
  {
   "cell_type": "code",
   "execution_count": 119,
   "id": "25386e61",
   "metadata": {},
   "outputs": [
    {
     "name": "stdout",
     "output_type": "stream",
     "text": [
      "Unknown Dimension : [[[1 2]\n",
      "  [3 4]]\n",
      "\n",
      " [[5 6]\n",
      "  [7 8]]]\n"
     ]
    }
   ],
   "source": [
    "# Unknown Dimension\n",
    "# You are allowed to have one \"Unknown Dimension\"\n",
    "\n",
    "# Meaning that you do not have to specify an exact number for one of the\n",
    "\n",
    "# dimension in the reshape method.\n",
    "# pass -1 as the value, and Numpy will calculate this no. for you.\n",
    "\n",
    "x25 = np.array([1,2,3,4,5,6,7,8])\n",
    "x251 = x25.reshape(2,2,-1)\n",
    "print(f\"Unknown Dimension : {x251}\")\n",
    "\n",
    "# We cannot pass -1 to more than dimension"
   ]
  },
  {
   "cell_type": "code",
   "execution_count": 120,
   "id": "9fb48bc1",
   "metadata": {},
   "outputs": [
    {
     "name": "stdout",
     "output_type": "stream",
     "text": [
      "Reshape Array : [11 22 33 44 55 66 77]\n"
     ]
    }
   ],
   "source": [
    "# Flattening the Array\n",
    "# Flattening the Array means converting multi-dimensional array into 1-D Array.\n",
    "# We can reshape(-1) to do this\n",
    "\n",
    "x26 = np.array([11,22,33,44,55,66,77])\n",
    "x261 = x26.reshape(-1)\n",
    "print(f\"Reshape Array : {x261}\")"
   ]
  },
  {
   "cell_type": "code",
   "execution_count": 121,
   "id": "68c7a31c",
   "metadata": {},
   "outputs": [
    {
     "name": "stdout",
     "output_type": "stream",
     "text": [
      "1\n",
      "2\n",
      "3\n",
      "4\n",
      "5\n"
     ]
    }
   ],
   "source": [
    "# Iterating Arrays\n",
    "# Iterating means going through elements one by one\n",
    "# As we deal multidimensional array in numpy we use for loop\n",
    "# Iterating 1-D Array\n",
    "x27 = np.array([1,2,3,4,5])\n",
    "for i in x27:\n",
    "    print(i)\n"
   ]
  },
  {
   "cell_type": "code",
   "execution_count": 122,
   "id": "467ed5ee",
   "metadata": {},
   "outputs": [
    {
     "name": "stdout",
     "output_type": "stream",
     "text": [
      "One-D Array : [1 2 3 4 5]\n",
      "Two-D Array : 1\n",
      "Two-D Array : 2\n",
      "Two-D Array : 3\n",
      "Two-D Array : 4\n",
      "Two-D Array : 5\n",
      "One-D Array : [11 22 33 44 55]\n",
      "Two-D Array : 11\n",
      "Two-D Array : 22\n",
      "Two-D Array : 33\n",
      "Two-D Array : 44\n",
      "Two-D Array : 55\n"
     ]
    }
   ],
   "source": [
    "# iterating 2-D Array\n",
    "x27 = np.array([[1,2,3,4,5],[11,22,33,44,55]])\n",
    "for i in x27:\n",
    "    print(f\"One-D Array : {i}\")\n",
    "    for j in i:\n",
    "        print(f\"Two-D Array : {j}\")"
   ]
  },
  {
   "cell_type": "code",
   "execution_count": 123,
   "id": "3407033f",
   "metadata": {},
   "outputs": [
    {
     "name": "stdout",
     "output_type": "stream",
     "text": [
      "One-D Array : [[ 1  2  3  4  5]\n",
      " [11 22 33 44 55]]\n",
      "Two-D Array : [1 2 3 4 5]\n",
      "Three-D Array : 1\n",
      "Three-D Array : 2\n",
      "Three-D Array : 3\n",
      "Three-D Array : 4\n",
      "Three-D Array : 5\n",
      "Two-D Array : [11 22 33 44 55]\n",
      "Three-D Array : 11\n",
      "Three-D Array : 22\n",
      "Three-D Array : 33\n",
      "Three-D Array : 44\n",
      "Three-D Array : 55\n",
      "One-D Array : [[ 11  23  45  67  89]\n",
      " [111 222 333 444 555]]\n",
      "Two-D Array : [11 23 45 67 89]\n",
      "Three-D Array : 11\n",
      "Three-D Array : 23\n",
      "Three-D Array : 45\n",
      "Three-D Array : 67\n",
      "Three-D Array : 89\n",
      "Two-D Array : [111 222 333 444 555]\n",
      "Three-D Array : 111\n",
      "Three-D Array : 222\n",
      "Three-D Array : 333\n",
      "Three-D Array : 444\n",
      "Three-D Array : 555\n"
     ]
    }
   ],
   "source": [
    "# iterating 3-D Array\n",
    "x27 = np.array([[[1,2,3,4,5],[11,22,33,44,55]],[[11,23,45,67,89],[111,\n",
    "                                                            222,333,444,555]]])\n",
    "for i in x27:\n",
    "    print(f\"One-D Array : {i}\")\n",
    "    for j in i:\n",
    "        print(f\"Two-D Array : {j}\")\n",
    "        for k in j:\n",
    "            print(f\"Three-D Array : {k}\")"
   ]
  },
  {
   "cell_type": "code",
   "execution_count": 124,
   "id": "9985fa7a",
   "metadata": {
    "scrolled": true
   },
   "outputs": [
    {
     "name": "stdout",
     "output_type": "stream",
     "text": [
      "1\n",
      "2\n",
      "3\n",
      "4\n",
      "5\n",
      "6\n",
      "7\n",
      "8\n"
     ]
    }
   ],
   "source": [
    "# The function nditer() is a helping function that can be used from very basic \n",
    "# to very advanced iterations. \n",
    "\n",
    "arr = np.array([[[1, 2], [3, 4]], [[5, 6], [7, 8]]])\n",
    "\n",
    "for x in np.nditer(arr):\n",
    "  print(x)"
   ]
  },
  {
   "cell_type": "code",
   "execution_count": 125,
   "id": "57c9236c",
   "metadata": {},
   "outputs": [
    {
     "name": "stdout",
     "output_type": "stream",
     "text": [
      "b'1'\n",
      "b'2'\n",
      "b'3'\n"
     ]
    }
   ],
   "source": [
    "# Iterating array with different data types\n",
    "# We can use op_dtypes argument and pass it is the expected datatypes of \n",
    "# elements while iterating\n",
    "\n",
    "\n",
    "arr1 = np.array([1, 2, 3])\n",
    "\n",
    "for x in np.nditer(arr1, flags=['buffered'], op_dtypes=['S']):\n",
    "  print(x)"
   ]
  },
  {
   "cell_type": "code",
   "execution_count": 126,
   "id": "f1677060",
   "metadata": {},
   "outputs": [
    {
     "name": "stdout",
     "output_type": "stream",
     "text": [
      "1\n",
      "3\n",
      "5\n",
      "7\n"
     ]
    }
   ],
   "source": [
    "# Iterating with different step size\n",
    "# We can use filtering and followed by iteration\n",
    "arr2 = np.array([[1, 2, 3, 4], [5, 6, 7, 8]])\n",
    "\n",
    "for x in np.nditer(arr2[:, ::2]):\n",
    "  print(x)"
   ]
  },
  {
   "cell_type": "code",
   "execution_count": 127,
   "id": "2f04b341",
   "metadata": {},
   "outputs": [
    {
     "name": "stdout",
     "output_type": "stream",
     "text": [
      "[1 3]\n",
      "[5 7]\n"
     ]
    }
   ],
   "source": [
    "for x in arr2[:, ::2]:\n",
    "  print(x)"
   ]
  },
  {
   "cell_type": "code",
   "execution_count": 128,
   "id": "13c10a70",
   "metadata": {},
   "outputs": [
    {
     "name": "stdout",
     "output_type": "stream",
     "text": [
      "(0,) 1\n",
      "(1,) 2\n",
      "(2,) 3\n"
     ]
    }
   ],
   "source": [
    "# Enumerated Iteration Using ndenumerate()\n",
    "# Enumeration means mentioning sequence number of somethings one by one.\n",
    "arr3 = np.array([1, 2, 3])\n",
    "\n",
    "for idx, x in np.ndenumerate(arr3):\n",
    "  print(idx, x)"
   ]
  },
  {
   "cell_type": "code",
   "execution_count": 129,
   "id": "6236ab9b",
   "metadata": {},
   "outputs": [
    {
     "name": "stdout",
     "output_type": "stream",
     "text": [
      "(0, 0) 1\n",
      "(0, 1) 2\n",
      "(0, 2) 3\n",
      "(0, 3) 4\n",
      "(1, 0) 5\n",
      "(1, 1) 6\n",
      "(1, 2) 7\n",
      "(1, 3) 8\n"
     ]
    }
   ],
   "source": [
    "arr4 = np.array([[1, 2, 3, 4], [5, 6, 7, 8]])\n",
    "\n",
    "for idx, x in np.ndenumerate(arr4):\n",
    "  print(idx, x)"
   ]
  },
  {
   "cell_type": "code",
   "execution_count": 130,
   "id": "3b76c9cf",
   "metadata": {},
   "outputs": [
    {
     "name": "stdout",
     "output_type": "stream",
     "text": [
      "[1 2 3 4 5 6]\n"
     ]
    }
   ],
   "source": [
    "# Joining means putting content of two or more array in a single array\n",
    "# We use the concatenate method and pass the arguments\n",
    "arr11 = np.array([1, 2, 3])\n",
    "\n",
    "arr22 = np.array([4, 5, 6])\n",
    "\n",
    "arr33 = np.concatenate((arr11, arr22))\n",
    "\n",
    "print(arr33)"
   ]
  },
  {
   "cell_type": "code",
   "execution_count": 131,
   "id": "1800d484",
   "metadata": {},
   "outputs": [
    {
     "name": "stdout",
     "output_type": "stream",
     "text": [
      "[[1 2 5 6]\n",
      " [3 4 7 8]]\n"
     ]
    }
   ],
   "source": [
    "arr5 = np.array([[1, 2], [3, 4]])\n",
    "\n",
    "arr6 = np.array([[5, 6], [7, 8]])\n",
    "\n",
    "arr7 = np.concatenate((arr5, arr6), axis=1)\n",
    "\n",
    "print(arr7)"
   ]
  },
  {
   "cell_type": "code",
   "execution_count": 132,
   "id": "9727f8d8",
   "metadata": {},
   "outputs": [
    {
     "name": "stdout",
     "output_type": "stream",
     "text": [
      "[[1 4]\n",
      " [2 5]\n",
      " [3 6]]\n"
     ]
    }
   ],
   "source": [
    "# Joining Arrays Using Stack Functions\n",
    "# Stacking is same as concatenation, the only \n",
    "# difference is that stacking is done along a new axis.\n",
    "arr8 = np.array([1, 2, 3])\n",
    "\n",
    "arr9 = np.array([4, 5, 6])\n",
    "\n",
    "arr10 = np.stack((arr8, arr9), axis=1)\n",
    "\n",
    "print(arr10)"
   ]
  },
  {
   "cell_type": "code",
   "execution_count": 133,
   "id": "2c6d764f",
   "metadata": {},
   "outputs": [
    {
     "name": "stdout",
     "output_type": "stream",
     "text": [
      "[1 2 3 4 5 6]\n"
     ]
    }
   ],
   "source": [
    "# Stacking Along Rows\n",
    "# NumPy provides a helper function: hstack() to stack along rows.\n",
    "arr11 = np.array([1, 2, 3])\n",
    "\n",
    "arr12 = np.array([4, 5, 6])\n",
    "\n",
    "arr13 = np.hstack((arr11, arr12))\n",
    "\n",
    "print(arr13)"
   ]
  },
  {
   "cell_type": "code",
   "execution_count": 134,
   "id": "bba59dc6",
   "metadata": {},
   "outputs": [
    {
     "name": "stdout",
     "output_type": "stream",
     "text": [
      "[[1 2 3]\n",
      " [4 5 6]]\n"
     ]
    }
   ],
   "source": [
    "# Stacking Along Columns\n",
    "# NumPy provides a helper function: vstack()  to stack along columns.\n",
    "arr14 = np.array([1, 2, 3])\n",
    "\n",
    "arr15 = np.array([4, 5, 6])\n",
    "\n",
    "arr16 = np.vstack((arr14, arr15))\n",
    "\n",
    "print(arr16)"
   ]
  },
  {
   "cell_type": "code",
   "execution_count": 135,
   "id": "66b01aad",
   "metadata": {},
   "outputs": [
    {
     "name": "stdout",
     "output_type": "stream",
     "text": [
      "[[[1 4]\n",
      "  [2 5]\n",
      "  [3 6]]]\n"
     ]
    }
   ],
   "source": [
    "# Stacking Along Height (depth)\n",
    "# NumPy provides a helper function: \n",
    "# dstack() to stack along height, which is the same as depth.\n",
    "\n",
    "arr17 = np.array([1, 2, 3])\n",
    "\n",
    "arr18 = np.array([4, 5, 6])\n",
    "\n",
    "arr19 = np.dstack((arr17, arr18))\n",
    "\n",
    "print(arr19)"
   ]
  },
  {
   "cell_type": "code",
   "execution_count": 136,
   "id": "e40d1e7b",
   "metadata": {},
   "outputs": [
    {
     "name": "stdout",
     "output_type": "stream",
     "text": [
      "[array([1, 2]), array([3, 4]), array([5, 6])]\n"
     ]
    }
   ],
   "source": [
    "# Splitting NumPy Arrays\n",
    "# Splitting is reverse operation of Joining.\n",
    "\n",
    "# Joining merges multiple arrays into one and\n",
    "# Splitting breaks one array into multiple.\n",
    "\n",
    "# We use array_split() for splitting arrays, \n",
    "# we pass it the array we want to split and the number of splits.\n",
    "\n",
    "arr20 = np.array([1, 2, 3, 4, 5, 6])\n",
    "\n",
    "newarr = np.array_split(arr20, 3)\n",
    "\n",
    "print(newarr)\n",
    "\n",
    "# The return value is an array containing three arrays"
   ]
  },
  {
   "cell_type": "code",
   "execution_count": 137,
   "id": "946e0719",
   "metadata": {},
   "outputs": [
    {
     "name": "stdout",
     "output_type": "stream",
     "text": [
      "[array([1, 2]), array([3, 4]), array([5]), array([6])]\n"
     ]
    }
   ],
   "source": [
    "# If the array has less elements than required,\n",
    "# it will adjust from the end accordingly.\n",
    "arr21 = np.array([1, 2, 3, 4, 5, 6])\n",
    "\n",
    "newarr1 = np.array_split(arr21, 4)\n",
    "\n",
    "print(newarr1)"
   ]
  },
  {
   "cell_type": "code",
   "execution_count": 138,
   "id": "ef1a609e",
   "metadata": {},
   "outputs": [
    {
     "name": "stdout",
     "output_type": "stream",
     "text": [
      "[1 2]\n",
      "[3 4]\n",
      "[5 6]\n"
     ]
    }
   ],
   "source": [
    "# Split Into Arrays\n",
    "# The return value of the array_split() \n",
    "# method is an array containing each of the split as an array.\n",
    "\n",
    "# If you split an array into 3 arrays, you can access them from \n",
    "# the result just like any array element:\n",
    "\n",
    "arr22 = np.array([1, 2, 3, 4, 5, 6])\n",
    "\n",
    "newarr3 = np.array_split(arr22, 3)\n",
    "\n",
    "print(newarr3[0])\n",
    "print(newarr3[1])\n",
    "print(newarr3[2])"
   ]
  },
  {
   "cell_type": "code",
   "execution_count": 139,
   "id": "c53bbc55",
   "metadata": {},
   "outputs": [
    {
     "name": "stdout",
     "output_type": "stream",
     "text": [
      "[array([[1, 2],\n",
      "       [3, 4]]), array([[5, 6],\n",
      "       [7, 8]]), array([[ 9, 10],\n",
      "       [11, 12]])]\n"
     ]
    }
   ],
   "source": [
    "# Use the same syntax when splitting 2-D arrays.\n",
    "\n",
    "# Use the array_split() method, pass in the array you \n",
    "# want to split and the number of splits you want to do.\n",
    "\n",
    "arr23 = np.array([[1, 2], [3, 4], [5, 6], [7, 8], [9, 10], [11, 12]])\n",
    "\n",
    "newarr4 = np.array_split(arr23, 3)\n",
    "\n",
    "print(newarr4)"
   ]
  },
  {
   "cell_type": "code",
   "execution_count": 140,
   "id": "3feb64da",
   "metadata": {},
   "outputs": [
    {
     "name": "stdout",
     "output_type": "stream",
     "text": [
      "[array([[1, 2, 3],\n",
      "       [4, 5, 6]]), array([[ 7,  8,  9],\n",
      "       [10, 11, 12]]), array([[13, 14, 15],\n",
      "       [16, 17, 18]])]\n"
     ]
    }
   ],
   "source": [
    "arr24 = np.array([[1, 2, 3], [4, 5, 6], [7, 8, 9], [10, 11, 12],\\\n",
    "                  [13, 14, 15], [16, 17, 18]])\n",
    "\n",
    "newarr5 = np.array_split(arr24, 3)\n",
    "\n",
    "print(newarr5)"
   ]
  },
  {
   "cell_type": "code",
   "execution_count": 141,
   "id": "46978641",
   "metadata": {},
   "outputs": [
    {
     "name": "stdout",
     "output_type": "stream",
     "text": [
      "[array([[ 1],\n",
      "       [ 4],\n",
      "       [ 7],\n",
      "       [10],\n",
      "       [13],\n",
      "       [16]]), array([[ 2],\n",
      "       [ 5],\n",
      "       [ 8],\n",
      "       [11],\n",
      "       [14],\n",
      "       [17]]), array([[ 3],\n",
      "       [ 6],\n",
      "       [ 9],\n",
      "       [12],\n",
      "       [15],\n",
      "       [18]])]\n"
     ]
    }
   ],
   "source": [
    "arr25 = np.array([[1, 2, 3], [4, 5, 6], [7, 8, 9], \\\n",
    "                  [10, 11, 12], [13, 14, 15], [16, 17, 18]])\n",
    "\n",
    "newarr6 = np.array_split(arr25, 3, axis=1)\n",
    "\n",
    "print(newarr6)"
   ]
  },
  {
   "cell_type": "code",
   "execution_count": 142,
   "id": "8f15c802",
   "metadata": {},
   "outputs": [
    {
     "name": "stdout",
     "output_type": "stream",
     "text": [
      "[array([[ 1],\n",
      "       [ 4],\n",
      "       [ 7],\n",
      "       [10],\n",
      "       [13],\n",
      "       [16]]), array([[ 2],\n",
      "       [ 5],\n",
      "       [ 8],\n",
      "       [11],\n",
      "       [14],\n",
      "       [17]]), array([[ 3],\n",
      "       [ 6],\n",
      "       [ 9],\n",
      "       [12],\n",
      "       [15],\n",
      "       [18]])]\n"
     ]
    }
   ],
   "source": [
    "# Use the hsplit() method to split the 2-D array into\n",
    "# three 2-D arrays along rows.\n",
    "arr27 = np.array([[1, 2, 3], [4, 5, 6], [7, 8, 9], [10, 11, 12],\\\n",
    "                  [13, 14, 15], [16, 17, 18]])\n",
    "\n",
    "newarr7 = np.hsplit(arr27, 3)\n",
    "\n",
    "print(newarr7)"
   ]
  },
  {
   "cell_type": "code",
   "execution_count": 143,
   "id": "f29d0eb4",
   "metadata": {},
   "outputs": [
    {
     "name": "stdout",
     "output_type": "stream",
     "text": [
      "(array([3, 5, 6], dtype=int64),)\n"
     ]
    }
   ],
   "source": [
    "# Searching Arrays\n",
    "# You can search an array for a certain value, and return the indexes \n",
    "# that get a match.\n",
    "\n",
    "# To search an array, use the where() method.\n",
    "\n",
    "arr28 = np.array([1, 2, 3, 4, 5, 4, 4])\n",
    "\n",
    "x28 = np.where(arr28 == 4)\n",
    "\n",
    "print(x28)\n",
    "\n",
    "# Find the indexes where the value is 4\n",
    "\n",
    "# The example above will return a tuple: (array([3, 5, 6],)\n",
    "\n",
    "# Which means that the value 4 is present at index 3, 5, and 6."
   ]
  },
  {
   "cell_type": "code",
   "execution_count": 144,
   "id": "2835afd2",
   "metadata": {},
   "outputs": [
    {
     "name": "stdout",
     "output_type": "stream",
     "text": [
      "(array([1, 3, 5, 7], dtype=int64),)\n"
     ]
    }
   ],
   "source": [
    "arr29 = np.array([1, 2, 3, 4, 5, 6, 7, 8])\n",
    "\n",
    "x29 = np.where(arr29%2 == 0)\n",
    "\n",
    "print(x29)\n",
    "\n",
    "# Find the indexes where the values are even"
   ]
  },
  {
   "cell_type": "code",
   "execution_count": 145,
   "id": "ac349772",
   "metadata": {},
   "outputs": [
    {
     "name": "stdout",
     "output_type": "stream",
     "text": [
      "(array([0, 2, 4, 6], dtype=int64),)\n"
     ]
    }
   ],
   "source": [
    "arr30 = np.array([1, 2, 3, 4, 5, 6, 7, 8])\n",
    "\n",
    "x30 = np.where(arr30%2 == 1)\n",
    "\n",
    "print(x30)\n",
    "\n",
    "# Find the indexes where the values are odd"
   ]
  },
  {
   "cell_type": "code",
   "execution_count": 146,
   "id": "6315ee28",
   "metadata": {},
   "outputs": [
    {
     "name": "stdout",
     "output_type": "stream",
     "text": [
      "1\n"
     ]
    }
   ],
   "source": [
    "# Search Sorted\n",
    "# There is a method called searchsorted() which performs a binary search\n",
    "# in the array, and returns the index where the specified value would be\n",
    "# inserted to maintain the search order.\n",
    "\n",
    "# The searchsorted() method is assumed to be used on sorted arrays.\n",
    "\n",
    "# Find the indexes where the value 7 should be inserted\n",
    "\n",
    "arr31 = np.array([6, 8, 7, 9])\n",
    "\n",
    "x31 = np.searchsorted(arr31, 7)\n",
    "\n",
    "print(x31)"
   ]
  },
  {
   "cell_type": "code",
   "execution_count": 147,
   "id": "352289fa",
   "metadata": {},
   "outputs": [
    {
     "name": "stdout",
     "output_type": "stream",
     "text": [
      "2\n"
     ]
    }
   ],
   "source": [
    "# Find the indexes where the value 7 should be inserted, starting from the\n",
    "# right:\n",
    "\n",
    "arr32 = np.array([6, 7, 8, 9])\n",
    "\n",
    "x32 = np.searchsorted(arr32, 7, side='right')\n",
    "\n",
    "print(x32)"
   ]
  },
  {
   "cell_type": "code",
   "execution_count": 148,
   "id": "aeb7b122",
   "metadata": {},
   "outputs": [
    {
     "name": "stdout",
     "output_type": "stream",
     "text": [
      "[1 2 3]\n"
     ]
    }
   ],
   "source": [
    "# Find the indexes where the values 2, 4, and 6 should be inserted\n",
    "arr33 = np.array([1, 3, 5, 7])\n",
    "\n",
    "x33 = np.searchsorted(arr33, [2, 4, 6])\n",
    "\n",
    "print(x33)"
   ]
  },
  {
   "cell_type": "code",
   "execution_count": 150,
   "id": "b4c23cfe",
   "metadata": {},
   "outputs": [
    {
     "name": "stdout",
     "output_type": "stream",
     "text": [
      "[0 1 2 3]\n"
     ]
    }
   ],
   "source": [
    "# Sorting Arrays\n",
    "# Sorting means putting elements in an ordered sequence.\n",
    "\n",
    "# Ordered sequence is any sequence that has an order corresponding \n",
    "# to elements, like numeric or alphabetical, ascending or descending.\n",
    "\n",
    "# The NumPy ndarray object has a function called sort(), that will\n",
    "# sort a specified array.\n",
    "\n",
    "arr34 = np.array([3, 2, 0, 1])\n",
    "\n",
    "print(np.sort(arr34))\n",
    "\n",
    "# his method returns a copy of the array, leaving the original array unchanged."
   ]
  },
  {
   "cell_type": "code",
   "execution_count": 151,
   "id": "6449b839",
   "metadata": {},
   "outputs": [
    {
     "name": "stdout",
     "output_type": "stream",
     "text": [
      "['apple' 'banana' 'cherry']\n"
     ]
    }
   ],
   "source": [
    "arr35 = np.array(['banana', 'cherry', 'apple'])\n",
    "\n",
    "print(np.sort(arr35))"
   ]
  },
  {
   "cell_type": "code",
   "execution_count": 152,
   "id": "94a311f2",
   "metadata": {},
   "outputs": [
    {
     "name": "stdout",
     "output_type": "stream",
     "text": [
      "[False  True  True]\n"
     ]
    }
   ],
   "source": [
    "arr36 = np.array([True, False, True])\n",
    "\n",
    "print(np.sort(arr36))"
   ]
  },
  {
   "cell_type": "code",
   "execution_count": 153,
   "id": "1cccdd88",
   "metadata": {},
   "outputs": [
    {
     "name": "stdout",
     "output_type": "stream",
     "text": [
      "[[2 3 4]\n",
      " [0 1 5]]\n"
     ]
    }
   ],
   "source": [
    "arr37 = np.array([[3, 2, 4], [5, 0, 1]])\n",
    "\n",
    "print(np.sort(arr37))\n",
    "\n",
    "# Sorting a 2-D Array\n",
    "# If you use the sort() method on a 2-D array, both arrays will be sorted"
   ]
  },
  {
   "cell_type": "code",
   "execution_count": 154,
   "id": "30b0d5a8",
   "metadata": {},
   "outputs": [
    {
     "name": "stdout",
     "output_type": "stream",
     "text": [
      "[41 43]\n"
     ]
    }
   ],
   "source": [
    "# Filtering Arrays\n",
    "# Getting some elements out of an existing array and creating a\n",
    "# new array out of them is called filtering.\n",
    "\n",
    "# In NumPy, you filter an array using a boolean index list.\n",
    "\n",
    "# A boolean index list is a list of booleans corresponding to \n",
    "# indexes in the array.\n",
    "\n",
    "# If the value at an index is True that element is contained in\n",
    "# the filtered array, if the value at that index\n",
    "# is False that element is excluded from the filtered array.\n",
    "\n",
    "arr38 = np.array([41, 42, 43, 44])\n",
    "\n",
    "x38 = [True, False, True, False]\n",
    "\n",
    "newarr8 = arr38[x38]\n",
    "\n",
    "print(newarr8)"
   ]
  },
  {
   "cell_type": "code",
   "execution_count": 155,
   "id": "d5f18f06",
   "metadata": {},
   "outputs": [
    {
     "name": "stdout",
     "output_type": "stream",
     "text": [
      "[False, False, True, True]\n",
      "[43 44]\n"
     ]
    }
   ],
   "source": [
    "# Creating the Filter Array\n",
    "# In the example above we hard-coded the True and False values,\n",
    "# but the common use \n",
    "# is to create a filter array based on conditions.\n",
    "\n",
    "arr39 = np.array([41, 42, 43, 44])\n",
    "\n",
    "# Create an empty list\n",
    "filter_arr = []\n",
    "\n",
    "# go through each element in arr\n",
    "for element in arr39:\n",
    "  # if the element is higher than 42, set the value to True, otherwise False:\n",
    "  if element > 42:\n",
    "    filter_arr.append(True)\n",
    "  else:\n",
    "    filter_arr.append(False)\n",
    "\n",
    "newarr9 = arr39[filter_arr]\n",
    "\n",
    "print(filter_arr)\n",
    "print(newarr9)\n",
    "\n",
    "# Create a filter array that will return only values higher than 42:"
   ]
  },
  {
   "cell_type": "code",
   "execution_count": 156,
   "id": "40da36a6",
   "metadata": {},
   "outputs": [
    {
     "name": "stdout",
     "output_type": "stream",
     "text": [
      "[False, True, False, True, False, True, False]\n",
      "[2 4 6]\n"
     ]
    }
   ],
   "source": [
    "# Create a filter array that will return only even \n",
    "# elements from the original array:\n",
    "\n",
    "arr40 = np.array([1, 2, 3, 4, 5, 6, 7])\n",
    "\n",
    "# Create an empty list\n",
    "filter_arr1 = []\n",
    "\n",
    "# go through each element in arr\n",
    "for element in arr40:\n",
    "  # if the element is completely divisble by 2, set the value to True, \n",
    "    # otherwise False\n",
    "  if element % 2 == 0:\n",
    "    filter_arr1.append(True)\n",
    "  else:\n",
    "    filter_arr1.append(False)\n",
    "\n",
    "newarr10 = arr40[filter_arr1]\n",
    "\n",
    "print(filter_arr1)\n",
    "print(newarr10)"
   ]
  },
  {
   "cell_type": "code",
   "execution_count": 157,
   "id": "fc9745d7",
   "metadata": {},
   "outputs": [
    {
     "name": "stdout",
     "output_type": "stream",
     "text": [
      "[False False  True  True]\n",
      "[43 44]\n"
     ]
    }
   ],
   "source": [
    "# Creating Filter Directly From Array\n",
    "# The above example is quite a common task in NumPy and NumPy provides a nice\n",
    "# way to tackle it.\n",
    "\n",
    "# We can directly substitute the array instead of the iterable variable in our\n",
    "# condition and it will work just as we expect it to.\n",
    "\n",
    "# Create a filter array that will return only values higher than 42\n",
    "\n",
    "arr41 = np.array([41, 42, 43, 44])\n",
    "\n",
    "filter_arr2 = arr41 > 42\n",
    "\n",
    "newarr11 = arr41[filter_arr2]\n",
    "\n",
    "print(filter_arr2)\n",
    "print(newarr11)"
   ]
  },
  {
   "cell_type": "code",
   "execution_count": 158,
   "id": "dd4997f4",
   "metadata": {},
   "outputs": [
    {
     "name": "stdout",
     "output_type": "stream",
     "text": [
      "[False  True False  True False  True False]\n",
      "[2 4 6]\n"
     ]
    }
   ],
   "source": [
    "# Create a filter array that will return only\n",
    "# even elements from the original array\n",
    "\n",
    "arr42 = np.array([1, 2, 3, 4, 5, 6, 7])\n",
    "\n",
    "filter_arr3 = arr42 % 2 == 0\n",
    "\n",
    "newarr12 = arr42[filter_arr3]\n",
    "\n",
    "print(filter_arr3)\n",
    "print(newarr12)"
   ]
  },
  {
   "cell_type": "code",
   "execution_count": null,
   "id": "47186e90",
   "metadata": {},
   "outputs": [],
   "source": []
  },
  {
   "cell_type": "code",
   "execution_count": null,
   "id": "d93c6836",
   "metadata": {},
   "outputs": [],
   "source": []
  }
 ],
 "metadata": {
  "kernelspec": {
   "display_name": "Python 3 (ipykernel)",
   "language": "python",
   "name": "python3"
  },
  "language_info": {
   "codemirror_mode": {
    "name": "ipython",
    "version": 3
   },
   "file_extension": ".py",
   "mimetype": "text/x-python",
   "name": "python",
   "nbconvert_exporter": "python",
   "pygments_lexer": "ipython3",
   "version": "3.9.6"
  }
 },
 "nbformat": 4,
 "nbformat_minor": 5
}
